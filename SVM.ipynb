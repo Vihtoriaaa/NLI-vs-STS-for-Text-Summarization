{
  "cells": [
    {
      "cell_type": "markdown",
      "metadata": {
        "id": "8hqyhjZ0yQZY"
      },
      "source": [
        "### Imports"
      ]
    },
    {
      "cell_type": "code",
      "execution_count": 1,
      "metadata": {
        "colab": {
          "base_uri": "https://localhost:8080/"
        },
        "id": "nx3g1Dg-YKNB",
        "outputId": "8879bc3f-8d32-4e5c-b1ee-5034e4eca204"
      },
      "outputs": [],
      "source": [
        "import pandas as pd\n",
        "import numpy as np\n",
        "\n",
        "import warnings\n",
        "warnings.filterwarnings('ignore')"
      ]
    },
    {
      "cell_type": "code",
      "execution_count": 2,
      "metadata": {
        "id": "AGr3cjh0YxLd"
      },
      "outputs": [],
      "source": [
        "def read_df_and_display_num_rows_columns(filepath):\n",
        "    df = pd.read_csv(filepath)\n",
        "    print(f\"Reading file: {filepath}\")\n",
        "    print(f\"number of rows: {df.shape[0]}\")\n",
        "    print(f\"number of columns: {df.shape[1]}\")\n",
        "    return df"
      ]
    },
    {
      "cell_type": "code",
      "execution_count": 3,
      "metadata": {},
      "outputs": [],
      "source": [
        "import pickle\n",
        "def save_to_pickle(df, filename):\n",
        "  df.to_pickle(filename)"
      ]
    },
    {
      "cell_type": "code",
      "execution_count": 4,
      "metadata": {
        "colab": {
          "base_uri": "https://localhost:8080/"
        },
        "id": "U2wTlOTEYzvs",
        "outputId": "8acae0ff-4f51-440c-93ac-11a46955ae93"
      },
      "outputs": [
        {
          "name": "stdout",
          "output_type": "stream",
          "text": [
            "Reading file: snli processed/snli_data_train.csv\n",
            "number of rows: 549367\n",
            "number of columns: 3\n",
            "Reading file: snli processed/snli_data_val.csv\n",
            "number of rows: 9842\n",
            "number of columns: 3\n",
            "Reading file: snli processed/snli_data_test.csv\n",
            "number of rows: 9824\n",
            "number of columns: 3\n"
          ]
        }
      ],
      "source": [
        "df_train = read_df_and_display_num_rows_columns(\"snli processed/snli_data_train.csv\")\n",
        "df_val = read_df_and_display_num_rows_columns(\"snli processed/snli_data_val.csv\")\n",
        "df_test = read_df_and_display_num_rows_columns(\"snli processed/snli_data_test.csv\")"
      ]
    },
    {
      "cell_type": "code",
      "execution_count": 5,
      "metadata": {
        "colab": {
          "base_uri": "https://localhost:8080/",
          "height": 206
        },
        "id": "pMkQ9454Y165",
        "outputId": "abe47570-14a0-4237-dab6-26a5fd7fd240"
      },
      "outputs": [
        {
          "data": {
            "text/html": [
              "<div>\n",
              "<style scoped>\n",
              "    .dataframe tbody tr th:only-of-type {\n",
              "        vertical-align: middle;\n",
              "    }\n",
              "\n",
              "    .dataframe tbody tr th {\n",
              "        vertical-align: top;\n",
              "    }\n",
              "\n",
              "    .dataframe thead th {\n",
              "        text-align: right;\n",
              "    }\n",
              "</style>\n",
              "<table border=\"1\" class=\"dataframe\">\n",
              "  <thead>\n",
              "    <tr style=\"text-align: right;\">\n",
              "      <th></th>\n",
              "      <th>label</th>\n",
              "      <th>premise</th>\n",
              "      <th>hypothesis</th>\n",
              "    </tr>\n",
              "  </thead>\n",
              "  <tbody>\n",
              "    <tr>\n",
              "      <th>0</th>\n",
              "      <td>neutral</td>\n",
              "      <td>person horse jumps broken airplane</td>\n",
              "      <td>person training horse competition</td>\n",
              "    </tr>\n",
              "    <tr>\n",
              "      <th>1</th>\n",
              "      <td>contradiction</td>\n",
              "      <td>person horse jumps broken airplane</td>\n",
              "      <td>person diner ordering omelette</td>\n",
              "    </tr>\n",
              "    <tr>\n",
              "      <th>2</th>\n",
              "      <td>entailment</td>\n",
              "      <td>person horse jumps broken airplane</td>\n",
              "      <td>person outdoors horse</td>\n",
              "    </tr>\n",
              "    <tr>\n",
              "      <th>3</th>\n",
              "      <td>neutral</td>\n",
              "      <td>children smiling waving camera</td>\n",
              "      <td>smiling parents</td>\n",
              "    </tr>\n",
              "    <tr>\n",
              "      <th>4</th>\n",
              "      <td>entailment</td>\n",
              "      <td>children smiling waving camera</td>\n",
              "      <td>children present</td>\n",
              "    </tr>\n",
              "  </tbody>\n",
              "</table>\n",
              "</div>"
            ],
            "text/plain": [
              "           label                             premise  \\\n",
              "0        neutral  person horse jumps broken airplane   \n",
              "1  contradiction  person horse jumps broken airplane   \n",
              "2     entailment  person horse jumps broken airplane   \n",
              "3        neutral      children smiling waving camera   \n",
              "4     entailment      children smiling waving camera   \n",
              "\n",
              "                          hypothesis  \n",
              "0  person training horse competition  \n",
              "1     person diner ordering omelette  \n",
              "2              person outdoors horse  \n",
              "3                    smiling parents  \n",
              "4                   children present  "
            ]
          },
          "execution_count": 5,
          "metadata": {},
          "output_type": "execute_result"
        }
      ],
      "source": [
        "df_train.head()"
      ]
    },
    {
      "cell_type": "code",
      "execution_count": 6,
      "metadata": {
        "id": "vFZ6xbWwY6Uk"
      },
      "outputs": [],
      "source": [
        "def remove_null_from_df(df, name):\n",
        "  print(f\"Number of null rows in {name}\")\n",
        "  print(df.isnull().sum())\n",
        "  df = df.dropna().reset_index(drop=True)\n",
        "  return df"
      ]
    },
    {
      "cell_type": "code",
      "execution_count": 7,
      "metadata": {
        "colab": {
          "base_uri": "https://localhost:8080/"
        },
        "id": "JxIfmzI9Y8KR",
        "outputId": "ccba2439-1b55-445d-f328-6316f1add038"
      },
      "outputs": [
        {
          "name": "stdout",
          "output_type": "stream",
          "text": [
            "Number of null rows in SNLI train dataset\n",
            "label          0\n",
            "premise        0\n",
            "hypothesis    17\n",
            "dtype: int64\n",
            "Number of null rows in SNLI validation dataset\n",
            "label         0\n",
            "premise       0\n",
            "hypothesis    0\n",
            "dtype: int64\n"
          ]
        }
      ],
      "source": [
        "data_train = remove_null_from_df(df_train, \"SNLI train dataset\")\n",
        "data_val = remove_null_from_df(df_val,  \"SNLI validation dataset\")"
      ]
    },
    {
      "cell_type": "code",
      "execution_count": 8,
      "metadata": {
        "id": "m2RNoZ3WZElz"
      },
      "outputs": [],
      "source": [
        "from sklearn.feature_extraction.text import TfidfVectorizer\n",
        "from sklearn import svm\n",
        "from sklearn.metrics import classification_report\n",
        "import scipy.sparse"
      ]
    },
    {
      "cell_type": "code",
      "execution_count": 9,
      "metadata": {
        "colab": {
          "base_uri": "https://localhost:8080/",
          "height": 76
        },
        "id": "neGyHnIlY-b2",
        "outputId": "feee1ae1-39dd-4d8e-86ca-a6ddb8233c8f"
      },
      "outputs": [
        {
          "data": {
            "text/html": [
              "<style>#sk-container-id-1 {color: black;background-color: white;}#sk-container-id-1 pre{padding: 0;}#sk-container-id-1 div.sk-toggleable {background-color: white;}#sk-container-id-1 label.sk-toggleable__label {cursor: pointer;display: block;width: 100%;margin-bottom: 0;padding: 0.3em;box-sizing: border-box;text-align: center;}#sk-container-id-1 label.sk-toggleable__label-arrow:before {content: \"▸\";float: left;margin-right: 0.25em;color: #696969;}#sk-container-id-1 label.sk-toggleable__label-arrow:hover:before {color: black;}#sk-container-id-1 div.sk-estimator:hover label.sk-toggleable__label-arrow:before {color: black;}#sk-container-id-1 div.sk-toggleable__content {max-height: 0;max-width: 0;overflow: hidden;text-align: left;background-color: #f0f8ff;}#sk-container-id-1 div.sk-toggleable__content pre {margin: 0.2em;color: black;border-radius: 0.25em;background-color: #f0f8ff;}#sk-container-id-1 input.sk-toggleable__control:checked~div.sk-toggleable__content {max-height: 200px;max-width: 100%;overflow: auto;}#sk-container-id-1 input.sk-toggleable__control:checked~label.sk-toggleable__label-arrow:before {content: \"▾\";}#sk-container-id-1 div.sk-estimator input.sk-toggleable__control:checked~label.sk-toggleable__label {background-color: #d4ebff;}#sk-container-id-1 div.sk-label input.sk-toggleable__control:checked~label.sk-toggleable__label {background-color: #d4ebff;}#sk-container-id-1 input.sk-hidden--visually {border: 0;clip: rect(1px 1px 1px 1px);clip: rect(1px, 1px, 1px, 1px);height: 1px;margin: -1px;overflow: hidden;padding: 0;position: absolute;width: 1px;}#sk-container-id-1 div.sk-estimator {font-family: monospace;background-color: #f0f8ff;border: 1px dotted black;border-radius: 0.25em;box-sizing: border-box;margin-bottom: 0.5em;}#sk-container-id-1 div.sk-estimator:hover {background-color: #d4ebff;}#sk-container-id-1 div.sk-parallel-item::after {content: \"\";width: 100%;border-bottom: 1px solid gray;flex-grow: 1;}#sk-container-id-1 div.sk-label:hover label.sk-toggleable__label {background-color: #d4ebff;}#sk-container-id-1 div.sk-serial::before {content: \"\";position: absolute;border-left: 1px solid gray;box-sizing: border-box;top: 0;bottom: 0;left: 50%;z-index: 0;}#sk-container-id-1 div.sk-serial {display: flex;flex-direction: column;align-items: center;background-color: white;padding-right: 0.2em;padding-left: 0.2em;position: relative;}#sk-container-id-1 div.sk-item {position: relative;z-index: 1;}#sk-container-id-1 div.sk-parallel {display: flex;align-items: stretch;justify-content: center;background-color: white;position: relative;}#sk-container-id-1 div.sk-item::before, #sk-container-id-1 div.sk-parallel-item::before {content: \"\";position: absolute;border-left: 1px solid gray;box-sizing: border-box;top: 0;bottom: 0;left: 50%;z-index: -1;}#sk-container-id-1 div.sk-parallel-item {display: flex;flex-direction: column;z-index: 1;position: relative;background-color: white;}#sk-container-id-1 div.sk-parallel-item:first-child::after {align-self: flex-end;width: 50%;}#sk-container-id-1 div.sk-parallel-item:last-child::after {align-self: flex-start;width: 50%;}#sk-container-id-1 div.sk-parallel-item:only-child::after {width: 0;}#sk-container-id-1 div.sk-dashed-wrapped {border: 1px dashed gray;margin: 0 0.4em 0.5em 0.4em;box-sizing: border-box;padding-bottom: 0.4em;background-color: white;}#sk-container-id-1 div.sk-label label {font-family: monospace;font-weight: bold;display: inline-block;line-height: 1.2em;}#sk-container-id-1 div.sk-label-container {text-align: center;}#sk-container-id-1 div.sk-container {/* jupyter's `normalize.less` sets `[hidden] { display: none; }` but bootstrap.min.css set `[hidden] { display: none !important; }` so we also need the `!important` here to be able to override the default hidden behavior on the sphinx rendered scikit-learn.org. See: https://github.com/scikit-learn/scikit-learn/issues/21755 */display: inline-block !important;position: relative;}#sk-container-id-1 div.sk-text-repr-fallback {display: none;}</style><div id=\"sk-container-id-1\" class=\"sk-top-container\"><div class=\"sk-text-repr-fallback\"><pre>TfidfVectorizer()</pre><b>In a Jupyter environment, please rerun this cell to show the HTML representation or trust the notebook. <br />On GitHub, the HTML representation is unable to render, please try loading this page with nbviewer.org.</b></div><div class=\"sk-container\" hidden><div class=\"sk-item\"><div class=\"sk-estimator sk-toggleable\"><input class=\"sk-toggleable__control sk-hidden--visually\" id=\"sk-estimator-id-1\" type=\"checkbox\" checked><label for=\"sk-estimator-id-1\" class=\"sk-toggleable__label sk-toggleable__label-arrow\">TfidfVectorizer</label><div class=\"sk-toggleable__content\"><pre>TfidfVectorizer()</pre></div></div></div></div></div>"
            ],
            "text/plain": [
              "TfidfVectorizer()"
            ]
          },
          "execution_count": 9,
          "metadata": {},
          "output_type": "execute_result"
        }
      ],
      "source": [
        "corpus = data_train['premise'] + ' ' + data_train['hypothesis']\n",
        "vectorizer = TfidfVectorizer()\n",
        "vectorizer.fit(corpus)"
      ]
    },
    {
      "cell_type": "code",
      "execution_count": 10,
      "metadata": {
        "id": "bVAkD6g3ZSVR"
      },
      "outputs": [],
      "source": [
        "tfidf_premise = vectorizer.transform(data_train['premise'])\n",
        "tfidf_hypothesis = vectorizer.transform(data_train['hypothesis'])\n",
        "tfidf_features = scipy.sparse.hstack((tfidf_premise, tfidf_hypothesis))"
      ]
    },
    {
      "cell_type": "code",
      "execution_count": 11,
      "metadata": {
        "id": "C7_3EuzlaqfI"
      },
      "outputs": [],
      "source": [
        "label_map = {'contradiction': 0, 'neutral': 1, 'entailment': 2}\n",
        "# Replace string labels with numerical labels\n",
        "tfidf_labels = data_train['label'].replace(label_map)"
      ]
    },
    {
      "cell_type": "code",
      "execution_count": 12,
      "metadata": {
        "id": "pAZbQLTEegB-"
      },
      "outputs": [],
      "source": [
        "from sklearn.metrics import accuracy_score"
      ]
    },
    {
      "cell_type": "code",
      "execution_count": 16,
      "metadata": {
        "id": "Mij6ODSwYU6x"
      },
      "outputs": [],
      "source": [
        "def train_SVM(tfidf_features, tfidf_labels, validation_features, validation_labels):\n",
        "    # Create the SVM model\n",
        "    svc = svm.SVC(kernel='rbf', random_state = 0, gamma='auto', max_iter=2000)\n",
        "\n",
        "    # Train the model on the training set\n",
        "    svc.fit(tfidf_features, tfidf_labels)\n",
        "\n",
        "    # Predict the labels for the validation set\n",
        "    predictions = svc.predict(validation_features)\n",
        "\n",
        "    with open('saved/SVM.pickle', \"wb\") as file:\n",
        "        pickle.dump(svc, file)\n",
        "\n",
        "    # Print the classification report\n",
        "    print(classification_report(validation_labels, predictions))\n",
        "    return predictions"
      ]
    },
    {
      "cell_type": "code",
      "execution_count": 17,
      "metadata": {
        "id": "341qvRCab1ZJ"
      },
      "outputs": [],
      "source": [
        "tfidf_premise_val = vectorizer.transform(data_val['premise'])\n",
        "tfidf_hypothesis_val = vectorizer.transform(data_val['hypothesis'])\n",
        "tfidf_features_val = scipy.sparse.hstack((tfidf_premise_val, tfidf_hypothesis_val))\n",
        "val_labels = data_val['label'].replace(label_map)"
      ]
    },
    {
      "cell_type": "code",
      "execution_count": 18,
      "metadata": {
        "colab": {
          "base_uri": "https://localhost:8080/",
          "height": 398
        },
        "id": "lMvbgHg6cWiT",
        "outputId": "27a0a6e5-f9df-40fc-c57e-fe1b0368b646"
      },
      "outputs": [
        {
          "name": "stdout",
          "output_type": "stream",
          "text": [
            "              precision    recall  f1-score   support\n",
            "\n",
            "           0       0.54      0.29      0.38      3278\n",
            "           1       0.42      0.43      0.43      3235\n",
            "           2       0.41      0.58      0.48      3329\n",
            "\n",
            "    accuracy                           0.44      9842\n",
            "   macro avg       0.46      0.44      0.43      9842\n",
            "weighted avg       0.46      0.44      0.43      9842\n",
            "\n"
          ]
        },
        {
          "data": {
            "text/html": [
              "<div>\n",
              "<style scoped>\n",
              "    .dataframe tbody tr th:only-of-type {\n",
              "        vertical-align: middle;\n",
              "    }\n",
              "\n",
              "    .dataframe tbody tr th {\n",
              "        vertical-align: top;\n",
              "    }\n",
              "\n",
              "    .dataframe thead th {\n",
              "        text-align: right;\n",
              "    }\n",
              "</style>\n",
              "<table border=\"1\" class=\"dataframe\">\n",
              "  <thead>\n",
              "    <tr style=\"text-align: right;\">\n",
              "      <th></th>\n",
              "      <th>Real Values</th>\n",
              "      <th>Predicted Values</th>\n",
              "    </tr>\n",
              "  </thead>\n",
              "  <tbody>\n",
              "    <tr>\n",
              "      <th>0</th>\n",
              "      <td>1</td>\n",
              "      <td>0</td>\n",
              "    </tr>\n",
              "    <tr>\n",
              "      <th>1</th>\n",
              "      <td>2</td>\n",
              "      <td>2</td>\n",
              "    </tr>\n",
              "    <tr>\n",
              "      <th>2</th>\n",
              "      <td>0</td>\n",
              "      <td>2</td>\n",
              "    </tr>\n",
              "    <tr>\n",
              "      <th>3</th>\n",
              "      <td>2</td>\n",
              "      <td>2</td>\n",
              "    </tr>\n",
              "    <tr>\n",
              "      <th>4</th>\n",
              "      <td>1</td>\n",
              "      <td>2</td>\n",
              "    </tr>\n",
              "    <tr>\n",
              "      <th>...</th>\n",
              "      <td>...</td>\n",
              "      <td>...</td>\n",
              "    </tr>\n",
              "    <tr>\n",
              "      <th>9837</th>\n",
              "      <td>2</td>\n",
              "      <td>1</td>\n",
              "    </tr>\n",
              "    <tr>\n",
              "      <th>9838</th>\n",
              "      <td>0</td>\n",
              "      <td>1</td>\n",
              "    </tr>\n",
              "    <tr>\n",
              "      <th>9839</th>\n",
              "      <td>2</td>\n",
              "      <td>2</td>\n",
              "    </tr>\n",
              "    <tr>\n",
              "      <th>9840</th>\n",
              "      <td>0</td>\n",
              "      <td>1</td>\n",
              "    </tr>\n",
              "    <tr>\n",
              "      <th>9841</th>\n",
              "      <td>1</td>\n",
              "      <td>2</td>\n",
              "    </tr>\n",
              "  </tbody>\n",
              "</table>\n",
              "<p>9842 rows × 2 columns</p>\n",
              "</div>"
            ],
            "text/plain": [
              "      Real Values  Predicted Values\n",
              "0               1                 0\n",
              "1               2                 2\n",
              "2               0                 2\n",
              "3               2                 2\n",
              "4               1                 2\n",
              "...           ...               ...\n",
              "9837            2                 1\n",
              "9838            0                 1\n",
              "9839            2                 2\n",
              "9840            0                 1\n",
              "9841            1                 2\n",
              "\n",
              "[9842 rows x 2 columns]"
            ]
          },
          "execution_count": 18,
          "metadata": {},
          "output_type": "execute_result"
        }
      ],
      "source": [
        "predictions = train_SVM(tfidf_features, tfidf_labels, tfidf_features_val, val_labels)\n",
        "# Calculate the accuracy of the model\n",
        "results = pd.DataFrame({'Real Values': val_labels, 'Predicted Values': predictions})\n",
        "save_to_pickle(results, 'results/SVM_results.pickle')\n",
        "results"
      ]
    },
    {
      "cell_type": "code",
      "execution_count": 19,
      "metadata": {
        "id": "_Fbd6kjxfybo"
      },
      "outputs": [
        {
          "name": "stdout",
          "output_type": "stream",
          "text": [
            "Accuracy: 0.4364966470229628\n"
          ]
        }
      ],
      "source": [
        "accuracy = accuracy_score(val_labels, predictions)\n",
        "print('Accuracy:', accuracy)"
      ]
    }
  ],
  "metadata": {
    "accelerator": "GPU",
    "colab": {
      "provenance": []
    },
    "gpuClass": "standard",
    "kernelspec": {
      "display_name": "Python 3",
      "name": "python3"
    },
    "language_info": {
      "codemirror_mode": {
        "name": "ipython",
        "version": 3
      },
      "file_extension": ".py",
      "mimetype": "text/x-python",
      "name": "python",
      "nbconvert_exporter": "python",
      "pygments_lexer": "ipython3",
      "version": "3.8.5"
    }
  },
  "nbformat": 4,
  "nbformat_minor": 0
}
